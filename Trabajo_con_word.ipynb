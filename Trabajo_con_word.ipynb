{
  "nbformat": 4,
  "nbformat_minor": 0,
  "metadata": {
    "colab": {
      "provenance": [],
      "authorship_tag": "ABX9TyO7v6froWlNAoZUV1ltP6ft",
      "include_colab_link": true
    },
    "kernelspec": {
      "name": "python3",
      "display_name": "Python 3"
    },
    "language_info": {
      "name": "python"
    }
  },
  "cells": [
    {
      "cell_type": "markdown",
      "metadata": {
        "id": "view-in-github",
        "colab_type": "text"
      },
      "source": [
        "<a href=\"https://colab.research.google.com/github/Bigote93/DataInsider/blob/main/Trabajo_con_word.ipynb\" target=\"_parent\"><img src=\"https://colab.research.google.com/assets/colab-badge.svg\" alt=\"Open In Colab\"/></a>"
      ]
    },
    {
      "cell_type": "markdown",
      "source": [
        "# Trabajo con documentos word\n",
        "\n",
        "\n",
        "\n",
        "1.   Este documento es para trabajar con documentos word con lenguaje Python\n",
        "2.   Se almacenaran los documentos en un drive personal\n",
        "3.   Este doucmento es totalmente didactico y pedagogico\n",
        "\n"
      ],
      "metadata": {
        "id": "6B5Lp1zBzLr_"
      }
    },
    {
      "cell_type": "code",
      "execution_count": 2,
      "metadata": {
        "colab": {
          "base_uri": "https://localhost:8080/"
        },
        "id": "qdc7PpRWzJOJ",
        "outputId": "e33bb404-0323-427d-b4d7-f19d613e37f3"
      },
      "outputs": [
        {
          "output_type": "stream",
          "name": "stdout",
          "text": [
            "Mounted at /content/drive/\n"
          ]
        }
      ],
      "source": [
        "#Aplicar el llamado de almacenamiento\n",
        "\n",
        "from google.colab import drive\n",
        "drive.mount('/content/drive/')"
      ]
    },
    {
      "cell_type": "markdown",
      "source": [
        "Instalamos la libreria para trabajar con documentos word"
      ],
      "metadata": {
        "id": "-WIBi-6n0Pd7"
      }
    },
    {
      "cell_type": "code",
      "source": [
        "pip install python-docx"
      ],
      "metadata": {
        "colab": {
          "base_uri": "https://localhost:8080/"
        },
        "id": "2YhmyBvjz-t8",
        "outputId": "a3d755e4-92c4-4e99-f1eb-8f35ff4ed10b"
      },
      "execution_count": 4,
      "outputs": [
        {
          "output_type": "stream",
          "name": "stdout",
          "text": [
            "Looking in indexes: https://pypi.org/simple, https://us-python.pkg.dev/colab-wheels/public/simple/\n",
            "Collecting python-docx\n",
            "  Downloading python-docx-0.8.11.tar.gz (5.6 MB)\n",
            "\u001b[2K     \u001b[90m━━━━━━━━━━━━━━━━━━━━━━━━━━━━━━━━━━━━━━━━\u001b[0m \u001b[32m5.6/5.6 MB\u001b[0m \u001b[31m44.8 MB/s\u001b[0m eta \u001b[36m0:00:00\u001b[0m\n",
            "\u001b[?25h  Preparing metadata (setup.py) ... \u001b[?25l\u001b[?25hdone\n",
            "Requirement already satisfied: lxml>=2.3.2 in /usr/local/lib/python3.10/dist-packages (from python-docx) (4.9.2)\n",
            "Building wheels for collected packages: python-docx\n",
            "  Building wheel for python-docx (setup.py) ... \u001b[?25l\u001b[?25hdone\n",
            "  Created wheel for python-docx: filename=python_docx-0.8.11-py3-none-any.whl size=184491 sha256=dbddf69e2382f7eaf0e99c4c2899859c0136d618b9dca7897234a1164d5e437a\n",
            "  Stored in directory: /root/.cache/pip/wheels/80/27/06/837436d4c3bd989b957a91679966f207bfd71d358d63a8194d\n",
            "Successfully built python-docx\n",
            "Installing collected packages: python-docx\n",
            "Successfully installed python-docx-0.8.11\n"
          ]
        }
      ]
    },
    {
      "cell_type": "code",
      "source": [
        "#Hacemos la importacion de la libreria y la clase Document\n",
        "from docx import Document"
      ],
      "metadata": {
        "id": "4GOGNxxf0Vqq"
      },
      "execution_count": 5,
      "outputs": []
    },
    {
      "cell_type": "code",
      "source": [
        "#Creamos el documento a trabajar\n",
        "documento_prueba = Document()"
      ],
      "metadata": {
        "id": "M0hAERgB0_55"
      },
      "execution_count": 6,
      "outputs": []
    },
    {
      "cell_type": "markdown",
      "source": [
        "## Titulos\n",
        "\n",
        "Para agregar titulos se utiliza el metodo \"add_heading\". Este metodo tiene dos propiedades:\n",
        "\n",
        "El método **add_heading** es una función de la librería python-docx que se utiliza para agregar un título o encabezado a un documento de Word (archivo .docx). Esta función te permite especificar el texto del encabezado y el nivel de jerarquía del mismo.\n",
        "\n",
        "> add_heading(texto, nivel)\n",
        "\n",
        "1. **text**: Es el texto que deseas agregar como encabezado.\n",
        "2. **level**: Es el nivel de jerarquía del encabezado. Puede ser un valor entero del 0 al 9, donde 0 es el nivel más alto y 9 el nivel más bajo.\n",
        "\n",
        "**La ejecucion de la creacion de cada comando de add_heading no creara nuevos titulos, por lo que no sobrescribira los que ya se han creado**"
      ],
      "metadata": {
        "id": "yztxuqWm1JI6"
      }
    },
    {
      "cell_type": "code",
      "source": [
        "#Crear titulo principal\n",
        "documento_prueba.add_heading('Titulo principal', level = 1)\n",
        "\n",
        "#Crear subtitulo\n",
        "documento_prueba.add_heading('Subtitutlo', level = 2)"
      ],
      "metadata": {
        "colab": {
          "base_uri": "https://localhost:8080/"
        },
        "id": "HJbig0cu1KcH",
        "outputId": "a0f3d60c-c2a0-4a5d-80e4-a8c2f727114b"
      },
      "execution_count": 7,
      "outputs": [
        {
          "output_type": "execute_result",
          "data": {
            "text/plain": [
              "<docx.text.paragraph.Paragraph at 0x7f6f576c9f60>"
            ]
          },
          "metadata": {},
          "execution_count": 7
        }
      ]
    },
    {
      "cell_type": "markdown",
      "source": [
        "##Almacenar dopcumentos\n",
        "\n",
        "Si estás trabajando en un entorno de Colab Notebook, puedes guardar el documento Word en el sistema de archivos virtual de Colab o descargarlo a tu máquina local.\n",
        "\n",
        "1. Puedes utilizar la función files proporcionada por Colab para guardar el archivo en el sistema de archivos virtual:\n",
        "\n"
      ],
      "metadata": {
        "id": "xZqQqo7Q2q9-"
      }
    },
    {
      "cell_type": "code",
      "source": [
        "## Guardar el documento\n",
        "documento_prueba.save('/content/drive/MyDrive/Trabajoconword/documento.docx')"
      ],
      "metadata": {
        "id": "cOn5AYdO2g1j"
      },
      "execution_count": 8,
      "outputs": []
    },
    {
      "cell_type": "markdown",
      "source": [
        "##Parrafos\n",
        "\n",
        "El método add_paragraph es una función de la biblioteca python-docx que se utiliza para agregar un párrafo nuevo a un documento de Word (archivo .docx). Esta función te permite especificar el texto y los estilos del párrafo.\n",
        "\n",
        "\n",
        "> add_paragraph(text, style=None)\n",
        "\n",
        "1. **text**: Es el texto que deseas agregar como párrafo.\n",
        "2. **style** (opcional): Es el estilo de formato que deseas aplicar al párrafo. Puede ser un objeto ParagraphStyle definido previamente o uno de los estilos predefinidos, como \"Normal\", \"Heading 1\", \"Heading 2\", etc.\n"
      ],
      "metadata": {
        "id": "6HTSsIm-4D6P"
      }
    },
    {
      "cell_type": "markdown",
      "source": [
        "## Estilos del parrafo\n",
        "\n",
        "La biblioteca python-docx admite varios estilos predefinidos que se pueden utilizar al agregar un párrafo utilizando el parámetro style en el método add_paragraph(). Aquí hay una lista de algunos de los estilos predefinidos comunes:\n",
        "\n",
        "* **'Normal'**: El estilo de párrafo normal sin formato especial.\n",
        "* **'Heading 1'**: Encabezado de nivel 1.\n",
        "* **'Heading 2'**: Encabezado de nivel 2.\n",
        "* **'Heading 3'**: Encabezado de nivel 3.\n",
        "* **'Title'**: Título del documento.\n",
        "* **'Subtitle'**: Subtítulo del documento.\n",
        "* **'Quote'**: Bloque de cita.\n",
        "* **'Intense Quote'**: Bloque de cita intensificado.\n",
        "* **'Caption'**: Leyenda o título de una figura o tabla.\n",
        "* **'Heading'**: Encabezado genérico.\n",
        "* **'List Bullet'**: Viñeta de lista.\n",
        "* **'List Number'**: Número de lista.\n",
        "* **'List Continue'**: Continuación de lista.\n",
        "* **'List Bullet 2'**: Segunda viñeta de lista.\n",
        "* **'List Bullet 3'**: Tercera viñeta de lista.\n",
        "* **'List Bullet 4'**: Cuarta viñeta de lista."
      ],
      "metadata": {
        "id": "13JKmCLQTLIY"
      }
    },
    {
      "cell_type": "code",
      "source": [
        "# Agregar un párrafo sin estilo\n",
        "documento_prueba.add_paragraph('Este es un párrafo sin estilo.')"
      ],
      "metadata": {
        "colab": {
          "base_uri": "https://localhost:8080/"
        },
        "id": "H3c8SCny44ZB",
        "outputId": "dc90886b-4c19-4f7f-8eb2-2dbed27455fa"
      },
      "execution_count": 9,
      "outputs": [
        {
          "output_type": "execute_result",
          "data": {
            "text/plain": [
              "<docx.text.paragraph.Paragraph at 0x7f6f576c9f00>"
            ]
          },
          "metadata": {},
          "execution_count": 9
        }
      ]
    },
    {
      "cell_type": "code",
      "source": [
        "# Agregar un párrafo con estilo predefinido\n",
        "documento_prueba.add_paragraph('Este es un párrafo con estilo.', style='Heading 1')"
      ],
      "metadata": {
        "colab": {
          "base_uri": "https://localhost:8080/"
        },
        "id": "JZbndSNO46gn",
        "outputId": "e682b14e-6715-4313-9847-0ca2169b394e"
      },
      "execution_count": 10,
      "outputs": [
        {
          "output_type": "execute_result",
          "data": {
            "text/plain": [
              "<docx.text.paragraph.Paragraph at 0x7f6f576ca350>"
            ]
          },
          "metadata": {},
          "execution_count": 10
        }
      ]
    },
    {
      "cell_type": "code",
      "source": [
        "## Guardar el documento\n",
        "documento_prueba.save('/content/drive/MyDrive/Trabajoconword/documento.docx')"
      ],
      "metadata": {
        "id": "t1nL6r2J4-Xh"
      },
      "execution_count": 11,
      "outputs": []
    },
    {
      "cell_type": "markdown",
      "source": [
        "Si queremos usar negritas o italicas en parte del parrafo , sera necesario obtener el objeto que devuelve este metodo para poder editarlo.\n",
        "\n",
        "El obnjeto que devuelve el metodo **add_oaragraph** se le puede agregar mas contenidos con el metodo de obtencion del run **add_run**"
      ],
      "metadata": {
        "id": "_OC_l6bfOVX8"
      }
    },
    {
      "cell_type": "markdown",
      "source": [
        "### Agregar formato negrita o italica"
      ],
      "metadata": {
        "id": "8jF3QGTWP7RD"
      }
    },
    {
      "cell_type": "code",
      "source": [
        "#-------------------BOLD -----------------------#\n",
        "\n",
        "#Añadimos otro parrafo\n",
        "parrafo_n = documento_prueba.add_paragraph('Formular parrafo para modificar')\n",
        "\n",
        "#Obtenemos el objeto run del parrafo con \"add_run\"\n",
        "run_parrafo = parrafo_n.add_run()\n",
        "\n",
        "#Agregamos el texto al objeto run identificado un nuevo texto con un estilo de bold\n",
        "run_parrafo.text = 'Este texto tiene formato negrita'\n",
        "run_parrafo.bold = True\n"
      ],
      "metadata": {
        "id": "SRTJ4CYLOQG8"
      },
      "execution_count": 19,
      "outputs": []
    },
    {
      "cell_type": "code",
      "source": [
        "#-------------------Italic -----------------------#\n",
        "\n",
        "#Añadimos otro parrafo\n",
        "parrafo_n = documento_prueba.add_paragraph('Formular parrafo para modificar')\n",
        "\n",
        "#Obtenemos el objeto run del parrafo con \"add_run\"\n",
        "run_parrafo = parrafo_n.add_run()\n",
        "\n",
        "#Agregamos el texto al objeto run identificado un nuevo texto con un estilo de italic\n",
        "run_parrafo.text = 'Este texto tiene formato italic'\n",
        "run_parrafo.italic = True\n"
      ],
      "metadata": {
        "id": "gB4uTumWRwKs"
      },
      "execution_count": 21,
      "outputs": []
    },
    {
      "cell_type": "code",
      "source": [
        "documento_prueba.save('/content/drive/MyDrive/Trabajoconword/documento.docx')"
      ],
      "metadata": {
        "id": "yjPlyLDjPA4C"
      },
      "execution_count": 22,
      "outputs": []
    },
    {
      "cell_type": "markdown",
      "source": [
        "##Agregar fracmentos de texto\n",
        "\n",
        "El método **add_run** se utiliza en la biblioteca python-docx para agregar un fragmento de texto con un formato específico a un párrafo existente en un documento de Word. Aquí tienes una explicación detallada del método:\n",
        "\n",
        "> **paragraph.add_run(texto)**\n",
        "\n",
        "\n",
        "1. **paragraph**: Es el objeto de párrafo al que deseas agregar el fragmento de texto con formato.\n",
        "2. **texto**: Es el texto que deseas agregar al fragmento de Run dentro del párrafo.\n",
        "\n",
        "\n",
        "\n",
        "\n",
        "```\n",
        "# ------------ Explicacion del codigo ------------\n",
        "\n",
        "# Agregar un párrafo\n",
        "paragraph = doc.add_paragraph()\n",
        "\n",
        "# Agregar un fragmento de texto con formato\n",
        "run = paragraph.add_run('Este es un fragmento de texto con formato')\n",
        "\n",
        "# Guardar el documento\n",
        "doc.save('documento.docx')\n",
        "\n",
        "```\n",
        "\n",
        "Se agrega un párrafo vacío al documento utilizando el método add_paragraph.\n",
        "\n",
        "A continuación, se utiliza el método add_run en el objeto de párrafo (paragraph) para agregar un fragmento de texto con formato.\n",
        "\n",
        "\n",
        "\n",
        "> En este caso, el texto \"Este es un fragmento de texto con formato\" se agrega al objeto Run dentro del párrafo.\n",
        "\n",
        "\n",
        "\n",
        "> Puedes aplicar formatos adicionales al fragmento de texto utilizando los atributos y métodos disponibles en el objeto Run. Algunos ejemplos de formatos comunes incluyen:\n",
        "\n",
        "\n",
        "\n",
        "```\n",
        "# ---------------- Ejecucion del codigo ----------------\n",
        "\n",
        "run.bold = True  # Aplicar formato de negrita\n",
        "run.italic = True  # Aplicar formato de cursiva\n",
        "run.underline = True  # Aplicar formato de subrayado\n",
        "run.font.size = Pt(12)  # Cambiar el tamaño de la fuente (en puntos)\n",
        "run.font.name = 'Arial'  # Cambiar la fuente\n",
        "run.font.color.rgb = RGBColor(255, 0, 0)  # Cambiar el color de fuente (en RGB)\n",
        "\n",
        "```\n",
        "\n"
      ],
      "metadata": {
        "id": "IFPFTnIRVSXw"
      }
    },
    {
      "cell_type": "code",
      "source": [
        "#Agregar un parrafo de formato negrita e italica\n",
        "\n",
        "parrafo_negrita = documento_prueba.add_paragraph().add_run('Texto en negrita')\n",
        "parrafo_negrita.italic = True\n",
        "parrafo_negrita.bold = True\n",
        "\n",
        "#Guardamos cambios\n",
        "documento_prueba.save('/content/drive/MyDrive/Trabajoconword/documento.docx')"
      ],
      "metadata": {
        "id": "Muy9Op5LVwqG"
      },
      "execution_count": 24,
      "outputs": []
    },
    {
      "cell_type": "markdown",
      "source": [
        "## Agregar listas enumeradas y viñetas al documento\n",
        "\n",
        "Para agregar viñetas y listas numeradas a un documento de Word utilizando la biblioteca python-docx, debes usar el método add_paragraph con el parámetro style adecuado"
      ],
      "metadata": {
        "id": "hlppFplvXf2p"
      }
    },
    {
      "cell_type": "markdown",
      "source": [
        "### Lista con puntos"
      ],
      "metadata": {
        "id": "1WxgTMsBZREp"
      }
    },
    {
      "cell_type": "code",
      "source": [
        "#Incorporamos el subtitulo para la lista\n",
        "documento_prueba.add_heading(\"Seccion lista con punto\", level = 1)\n",
        "\n",
        "#Incorporamos texto del parrafo que incluye como descripcion\n",
        "documento_prueba.add_paragraph(\"Texto descriptivo de la seccion de viñetas\")\n",
        "\n",
        "# Agregar un párrafo con viñetas\n",
        "documento_prueba.add_paragraph('Elemento 1', style='List Bullet')\n",
        "documento_prueba.add_paragraph('Elemento 2', style='List Bullet')\n",
        "documento_prueba.add_paragraph('Elemento 3', style='List Bullet')\n",
        "\n",
        "#Guardamos cambios\n",
        "documento_prueba.save('/content/drive/MyDrive/Trabajoconword/documento.docx')\n"
      ],
      "metadata": {
        "id": "8UjFMUbNYWne"
      },
      "execution_count": 25,
      "outputs": []
    },
    {
      "cell_type": "markdown",
      "source": [
        "### Lista enumeradas"
      ],
      "metadata": {
        "id": "H1B43dneZVIq"
      }
    },
    {
      "cell_type": "code",
      "source": [
        "#Incorporamos el subtitulo para la lista\n",
        "documento_prueba.add_heading(\"Seccion lista con numericas\", level = 1)\n",
        "\n",
        "#Incorporamos texto del parrafo que incluye como descripcion\n",
        "documento_prueba.add_paragraph(\"Texto descriptivo de la seccion numericas\")\n",
        "\n",
        "# Agregar un párrafo con viñetas\n",
        "documento_prueba.add_paragraph('Elemento 1', style='List Number')\n",
        "documento_prueba.add_paragraph('Elemento 2', style='List Number')\n",
        "documento_prueba.add_paragraph('Elemento 3', style='List Number')\n",
        "\n",
        "#Guardamos cambios\n",
        "documento_prueba.save('/content/drive/MyDrive/Trabajoconword/documento.docx')"
      ],
      "metadata": {
        "id": "EAoj8PblXog2"
      },
      "execution_count": 26,
      "outputs": []
    },
    {
      "cell_type": "markdown",
      "source": [
        "## Importacion de imagenes\n",
        "\n",
        "Para importar imágenes a un documento de Word utilizando la biblioteca python-docx, debes seguir estos pasos:\n",
        "\n",
        "1. Asegúrate de tener la imagen que deseas importar en tu sistema de archivos.\n",
        "2. Utiliza el método add_picture para agregar la imagen al documento.\n",
        "\n",
        "\n",
        "> **paragraph.add_picture(path, width=None, height=None)**\n",
        "\n",
        "Donde:\n",
        "\n",
        "* **paragraph**: Es el objeto de párrafo al que deseas agregar la imagen.\n",
        "* **path**: Es la ruta de la imagen que deseas agregar al documento.\n",
        "* **width (opcional)**: Especifica el ancho deseado de la imagen en el documento. Puede ser un número o un objeto Length de python-docx que representa el ancho en una unidad específica (por ejemplo, pulgadas, centímetros, puntos, etc.).\n",
        "* **height (opcional)**: Especifica la altura deseada de la imagen en el documento. Al igual que width, puede ser un número o un objeto Length.\n",
        "\n",
        "\n",
        "---- WIDTH y HEIGHT ----\n",
        "\n",
        "* Numeros en centimetros: width = '5cm'\n",
        "* Numeros en pulgadas: width= '5in'\n",
        "* Numeros en puntos: width = 'pt'\n",
        "\n",
        "\n",
        "```\n",
        "# -------- Incorporar imagenes --------\n",
        "\n",
        "# Agregar un párrafo\n",
        "paragraph = doc.add_paragraph()\n",
        "\n",
        "# Agregar una imagen al párrafo\n",
        "paragraph.add_picture('ruta_de_la_imagen.jpg', width=Inches(3), height=Inches(4))\n",
        "\n",
        "# Guardar el documento\n",
        "doc.save('documento.docx')\n",
        "\n",
        "```\n",
        "\n",
        "La ruta de la imagen debe debe indicarse con precausion indicandio los valores"
      ],
      "metadata": {
        "id": "RGpzXioOZnyX"
      }
    },
    {
      "cell_type": "code",
      "source": [
        "#Importamos la definicion de tamaños y dimensiones\n",
        "from docx.shared import Cm\n",
        "\n",
        "#Incorporamos el titulo del apartado de la imagen\n",
        "documento_prueba.add_heading('TItulo imagen', level = 1)\n",
        "\n",
        "#Incluimos un nuevo parrafo descritivo\n",
        "parrafo_imagen = documento_prueba.add_paragraph(\"Imagen descriptivo\")\n",
        "\n",
        "#Cargfar imagen y definido los tamaños\n",
        "documento_prueba.add_picture('/content/drive/MyDrive/INGLES/imagen2.png', width = Cm(5) , height=Cm(5))\n",
        "\n",
        "#Guardamos cambios\n",
        "documento_prueba.save('/content/drive/MyDrive/Trabajoconword/documento.docx')"
      ],
      "metadata": {
        "id": "Zxz2fbymcb83"
      },
      "execution_count": 36,
      "outputs": []
    },
    {
      "cell_type": "markdown",
      "source": [
        "##Creacion de tablas\n",
        "\n",
        "ara incorporar tablas a un documento de Word utilizando la biblioteca python-docx, hay varios métodos y propiedades que puedes utilizar.\n",
        "\n",
        "1. Crear una tabla:\n",
        "Para crear una tabla, debes utilizar el método add_table() del objeto Document.\n",
        "\n",
        "\n",
        "\n",
        "```\n",
        "# ------- Metodo \"add_table()\" ---------\n",
        "\n",
        "\n",
        "# Crear una tabla con 3 filas y 4 columnas\n",
        "table = doc.add_table(rows=3, cols=4)\n",
        "\n",
        "# Guardar el documento\n",
        "doc.save('documento.docx')\n",
        "\n",
        "```\n",
        "\n",
        "En este ejemplo, se crea un nuevo documento de Word utilizando Document(). Luego, se utiliza add_table() para crear una tabla con 3 filas y 4 columnas.\n",
        "\n",
        "2. Puedes acceder a las celdas de la tabla utilizando la propiedad cells de la tabla. Aquí tienes un ejemplo:\n",
        "\n",
        "\n",
        "\n",
        "```\n",
        "# ----Acceder a la tabla -------\n",
        "\n",
        "# Acceder a la primera celda de la tabla\n",
        "cell = table.cell(0, 0)\n",
        "\n",
        "# Acceder al contenido de la celda\n",
        "cell.text = 'Contenido de la celda'\n",
        "\n",
        "```\n",
        "\n",
        "En este ejemplo, se utiliza cell() para acceder a la celda en la fila 0 y columna 0 de la tabla. Luego, se puede asignar un contenido a la celda utilizando la propiedad text.\n",
        "\n",
        "3. Establecer estilos de la tabla y celdas:\n",
        "Puedes establecer estilos para la tabla y las celdas utilizando los métodos y propiedades correspondientes.\n",
        "\n",
        "\n",
        "\n",
        "```\n",
        "# ------- Estilos de tavla y celdas -------\n",
        "\n",
        "from docx.shared import Pt\n",
        "\n",
        "# Establecer ancho de columna\n",
        "table.columns[0].width = Inches(1.5)\n",
        "\n",
        "# Establecer estilo de tabla\n",
        "table.style = 'Table Grid'\n",
        "\n",
        "# Establecer estilo de celda\n",
        "cell.style = 'Cell'\n",
        "\n",
        "# Establecer tamaño de fuente en la celda\n",
        "cell.paragraphs[0].runs[0].font.size = Pt(12)\n",
        "\n",
        "\n",
        "```\n",
        "\n",
        "**Estilos de celdas:**\n",
        "\n",
        "1. Estilos de borde:\n",
        "> * 'Table Grid': Borde de tabla con bordes internos y externos.\n",
        "> * 'Table Grid 2': Borde de tabla con bordes internos y externos más delgados.\n",
        "2. Estilos de fondo:\n",
        "> * 'Light Shading': Sombreado de fondo claro.\n",
        "> * 'Medium Shading 1': Sombreado de fondo mediano 1.\n",
        "> * 'Medium Shading 2': Sombreado de fondo mediano 2.\n",
        "3. Estilos de texto:\n",
        "> * 'Normal': Estilo de texto normal.\n",
        "> * 'Strong': Estilo de texto en negrita.\n",
        "> * 'Emphasis': Estilo de texto en cursiva.\n",
        "\n",
        "**Estilos de tabla:**\n",
        "\n",
        "1. Estilos generales:\n",
        "> * 'Table Grid': Tabla con bordes internos y externos.\n",
        "> * 'Table Grid 2': Tabla con bordes internos y externos más delgados.\n",
        "> * 'Light Grid': Tabla con bordes internos y externos ligeros.\n",
        "> * 'Light Grid Accent 1': Tabla con bordes internos y externos ligeros y énfasis de estilo 1.\n",
        "2. Estilos de formato:\n",
        "> * 'Table Simple 1': Tabla simple con celdas sombreadas alternadamente.\n",
        "> * 'Table Simple 2': Tabla simple con bordes de celda y sombreado alternado.\n",
        "\n",
        "\n",
        "Para trabajar conn tablas es importante guardar el objeto que nos devuelve el metodo *add_tavle*, ya que lo necesitamos para agregar el contenido. Este objeto tiene la propiedad *rows* que es una lista que tiene la propiedad *cells* en donde se encuentra cada una de las celdas de la tabla.\n",
        "\n",
        "El texto que incluimos en la tabla se tiene que indicar en la propiedad **text** de cada celda.\n",
        "\n",
        "---- Por ejemplo: incluir los titulos de una tabla se hara: ----"
      ],
      "metadata": {
        "id": "pCeVxCMWerdN"
      }
    },
    {
      "cell_type": "code",
      "source": [
        "#Incorporamos el titulo del apartado de la imagen\n",
        "documento_prueba.add_heading('TItulo Tabla', level = 1)\n",
        "\n",
        "#Creamos un array que se oncorporara a la tabla\n",
        "datos = [\n",
        "    ['Fruta 1', '$12'],\n",
        "    ['Fruta 2', '$22'],\n",
        "    ['Fruta 3', '$29']\n",
        "]\n",
        "\n",
        "#Creamos el objeto tabla\n",
        "tabla_frutass = documento_prueba.add_table(\n",
        "    rows = 1,\n",
        "    cols = 2\n",
        ")\n",
        "\n",
        "#Incorporamos los datos a la tabla en nombre de columnas\n",
        "tabla_frutass.rows[0].cells[0].text = 'Fruta'\n",
        "tabla_frutass.rows[0].cells[1].text = 'Valor'\n",
        "\n",
        "#Iteramos el objeto de datos apra llenar la tabla\n",
        "\n",
        "for fruta, valor in datos:\n",
        "  row_cells = tabla_frutass.add_row().cells\n",
        "  row_cells[0].text = fruta\n",
        "  row_cells[1].text = valor\n",
        "\n",
        "#Guardamos cambios\n",
        "documento_prueba.save('/content/drive/MyDrive/Trabajoconword/documento.docx')"
      ],
      "metadata": {
        "id": "nODi3DejjSkO"
      },
      "execution_count": 37,
      "outputs": []
    }
  ]
}